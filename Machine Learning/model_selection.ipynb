{
 "cells": [
  {
   "cell_type": "markdown",
   "metadata": {},
   "source": [
    "Model Selection"
   ]
  },
  {
   "cell_type": "code",
   "execution_count": 115,
   "metadata": {},
   "outputs": [],
   "source": [
    "import numpy as np\n",
    "import pandas as pd\n",
    "import matplotlib.pyplot as plt \n",
    "from sklearn.metrics import r2_score"
   ]
  },
  {
   "cell_type": "code",
   "execution_count": 116,
   "metadata": {},
   "outputs": [],
   "source": [
    "dataset = pd.read_csv(\"dataset/Data.csv\")\n",
    "X = dataset.iloc[:, :-1].values\n",
    "y = dataset.iloc[:, -1].values"
   ]
  },
  {
   "cell_type": "markdown",
   "metadata": {},
   "source": [
    "Splitting the dataset into training and test set"
   ]
  },
  {
   "cell_type": "code",
   "execution_count": 117,
   "metadata": {},
   "outputs": [],
   "source": [
    "from sklearn.model_selection import train_test_split\n",
    "X_train, X_test, y_train, y_test = train_test_split(X, y, test_size=0.2, random_state=0)"
   ]
  },
  {
   "cell_type": "code",
   "execution_count": 118,
   "metadata": {},
   "outputs": [
    {
     "name": "stdout",
     "output_type": "stream",
     "text": [
      "[[ 752904      10       1 ...       5       4       1]\n",
      " [1218860       1       1 ...       3       1       1]\n",
      " [ 411453       5       1 ...       3       1       1]\n",
      " ...\n",
      " [1214092       1       1 ...       1       1       1]\n",
      " [1303489       3       1 ...       2       1       1]\n",
      " [ 378275      10       9 ...       7       7       1]]\n"
     ]
    }
   ],
   "source": [
    "print(X_train)   "
   ]
  },
  {
   "cell_type": "markdown",
   "metadata": {},
   "source": [
    "Multiple Linear Regression"
   ]
  },
  {
   "cell_type": "code",
   "execution_count": 122,
   "metadata": {},
   "outputs": [
    {
     "name": "stdout",
     "output_type": "stream",
     "text": [
      "[[2.25 2.  ]\n",
      " [2.03 2.  ]\n",
      " [3.52 4.  ]\n",
      " [3.7  4.  ]\n",
      " [1.89 2.  ]\n",
      " [2.09 2.  ]\n",
      " [2.26 2.  ]\n",
      " [3.94 4.  ]\n",
      " [2.07 2.  ]\n",
      " [1.94 2.  ]\n",
      " [4.   4.  ]\n",
      " [2.17 2.  ]\n",
      " [4.23 4.  ]\n",
      " [2.04 2.  ]\n",
      " [2.22 2.  ]\n",
      " [2.7  2.  ]\n",
      " [3.58 4.  ]\n",
      " [4.11 4.  ]\n",
      " [4.21 4.  ]\n",
      " [2.18 2.  ]\n",
      " [2.03 2.  ]\n",
      " [2.11 2.  ]\n",
      " [3.12 4.  ]\n",
      " [1.99 2.  ]\n",
      " [3.83 4.  ]\n",
      " [3.9  4.  ]\n",
      " [2.2  2.  ]\n",
      " [1.92 2.  ]\n",
      " [2.1  2.  ]\n",
      " [3.74 4.  ]\n",
      " [1.88 2.  ]\n",
      " [4.31 4.  ]\n",
      " [4.59 4.  ]\n",
      " [2.07 2.  ]\n",
      " [2.05 2.  ]\n",
      " [2.07 2.  ]\n",
      " [3.83 4.  ]\n",
      " [3.63 4.  ]\n",
      " [2.05 2.  ]\n",
      " [3.9  4.  ]\n",
      " [2.26 2.  ]\n",
      " [2.43 2.  ]\n",
      " [2.01 2.  ]\n",
      " [1.96 2.  ]\n",
      " [1.88 2.  ]\n",
      " [2.13 2.  ]\n",
      " [1.97 2.  ]\n",
      " [4.23 4.  ]\n",
      " [2.13 2.  ]\n",
      " [2.11 2.  ]\n",
      " [3.77 4.  ]\n",
      " [2.15 2.  ]\n",
      " [3.49 4.  ]\n",
      " [2.13 2.  ]\n",
      " [2.18 2.  ]\n",
      " [2.31 2.  ]\n",
      " [3.8  4.  ]\n",
      " [3.48 2.  ]\n",
      " [2.4  2.  ]\n",
      " [3.88 4.  ]\n",
      " [1.96 2.  ]\n",
      " [1.98 2.  ]\n",
      " [2.02 2.  ]\n",
      " [1.99 2.  ]\n",
      " [2.07 2.  ]\n",
      " [1.96 2.  ]\n",
      " [1.97 2.  ]\n",
      " [2.09 2.  ]\n",
      " [3.64 4.  ]\n",
      " [2.84 4.  ]\n",
      " [1.94 2.  ]\n",
      " [2.05 2.  ]\n",
      " [1.92 2.  ]\n",
      " [2.07 2.  ]\n",
      " [2.32 2.  ]\n",
      " [2.13 2.  ]\n",
      " [3.8  4.  ]\n",
      " [2.05 2.  ]\n",
      " [2.03 2.  ]\n",
      " [1.93 2.  ]\n",
      " [4.17 4.  ]\n",
      " [2.08 2.  ]\n",
      " [3.8  4.  ]\n",
      " [1.97 2.  ]\n",
      " [1.88 2.  ]\n",
      " [4.63 4.  ]\n",
      " [2.22 2.  ]\n",
      " [3.12 2.  ]\n",
      " [3.87 4.  ]\n",
      " [2.41 2.  ]\n",
      " [3.86 4.  ]\n",
      " [2.   2.  ]\n",
      " [3.5  4.  ]\n",
      " [2.75 4.  ]\n",
      " [2.77 4.  ]\n",
      " [2.94 2.  ]\n",
      " [3.73 4.  ]\n",
      " [4.11 4.  ]\n",
      " [2.72 4.  ]\n",
      " [2.18 2.  ]\n",
      " [2.2  2.  ]\n",
      " [1.98 2.  ]\n",
      " [4.19 4.  ]\n",
      " [3.99 4.  ]\n",
      " [2.13 2.  ]\n",
      " [2.11 2.  ]\n",
      " [3.99 4.  ]\n",
      " [2.89 4.  ]\n",
      " [2.   2.  ]\n",
      " [1.88 2.  ]\n",
      " [3.66 4.  ]\n",
      " [2.19 2.  ]\n",
      " [2.03 2.  ]\n",
      " [4.47 4.  ]\n",
      " [1.93 2.  ]\n",
      " [2.57 2.  ]\n",
      " [2.18 2.  ]\n",
      " [2.62 4.  ]\n",
      " [1.92 2.  ]\n",
      " [1.94 2.  ]\n",
      " [1.93 2.  ]\n",
      " [3.52 4.  ]\n",
      " [2.05 2.  ]\n",
      " [1.93 2.  ]\n",
      " [4.1  4.  ]\n",
      " [4.56 4.  ]\n",
      " [2.25 2.  ]\n",
      " [3.38 4.  ]\n",
      " [1.96 2.  ]\n",
      " [3.91 4.  ]\n",
      " [2.15 2.  ]\n",
      " [1.94 2.  ]\n",
      " [4.   4.  ]\n",
      " [1.94 2.  ]\n",
      " [2.1  2.  ]\n",
      " [4.2  4.  ]\n",
      " [2.01 2.  ]]\n"
     ]
    },
    {
     "data": {
      "text/plain": [
       "0.8354489501242135"
      ]
     },
     "execution_count": 122,
     "metadata": {},
     "output_type": "execute_result"
    }
   ],
   "source": [
    "from sklearn.linear_model import LinearRegression\n",
    "regressor = LinearRegression()\n",
    "regressor.fit(X_train, y_train)\n",
    "y_pred = regressor.predict(X_test)\n",
    "np.set_printoptions(precision=2)\n",
    "print(np.concatenate(( y_pred.reshape(len(y_pred), 1), y_test.reshape(len(y_test), 1)), 1))\n",
    "r2_score(y_test, y_pred)"
   ]
  },
  {
   "cell_type": "markdown",
   "metadata": {},
   "source": [
    "Polynomial Linear Regression"
   ]
  },
  {
   "cell_type": "code",
   "execution_count": 110,
   "metadata": {},
   "outputs": [
    {
     "data": {
      "text/plain": [
       "0.6085483223694554"
      ]
     },
     "execution_count": 110,
     "metadata": {},
     "output_type": "execute_result"
    }
   ],
   "source": [
    "from sklearn.preprocessing import PolynomialFeatures\n",
    "poly_reg = PolynomialFeatures(degree=4)\n",
    "X_poly = poly_reg.fit_transform(X_train)\n",
    "regressor = LinearRegression()\n",
    "regressor.fit(X_poly, y_train)\n",
    "y_pred = regressor.predict(poly_reg.transform(X_test))\n",
    "r2_score(y_test, y_pred)"
   ]
  },
  {
   "cell_type": "markdown",
   "metadata": {},
   "source": [
    "Decision Tree Model"
   ]
  },
  {
   "cell_type": "code",
   "execution_count": 111,
   "metadata": {},
   "outputs": [
    {
     "data": {
      "text/plain": [
       "0.6535632183908047"
      ]
     },
     "execution_count": 111,
     "metadata": {},
     "output_type": "execute_result"
    }
   ],
   "source": [
    "from sklearn.tree import DecisionTreeRegressor\n",
    "regressor = DecisionTreeRegressor(random_state=0)\n",
    "regressor.fit(X_train, y_train)\n",
    "r2_score(y_test, regressor.predict(X_test))"
   ]
  },
  {
   "cell_type": "markdown",
   "metadata": {},
   "source": [
    "Random Forest"
   ]
  },
  {
   "cell_type": "code",
   "execution_count": 112,
   "metadata": {},
   "outputs": [
    {
     "data": {
      "text/plain": [
       "0.8447333333333333"
      ]
     },
     "execution_count": 112,
     "metadata": {},
     "output_type": "execute_result"
    }
   ],
   "source": [
    "from sklearn.ensemble import RandomForestRegressor\n",
    "regressor = RandomForestRegressor(n_estimators=10, random_state=0)\n",
    "regressor.fit(X_train, y_train)\n",
    "r2_score(y_test, regressor.predict(X_test))"
   ]
  },
  {
   "cell_type": "markdown",
   "metadata": {},
   "source": [
    "Support Vector Regression (SVR)"
   ]
  },
  {
   "cell_type": "code",
   "execution_count": 113,
   "metadata": {},
   "outputs": [
    {
     "name": "stderr",
     "output_type": "stream",
     "text": [
      "c:\\Python310\\lib\\site-packages\\sklearn\\utils\\validation.py:1184: DataConversionWarning: A column-vector y was passed when a 1d array was expected. Please change the shape of y to (n_samples, ), for example using ravel().\n",
      "  y = column_or_1d(y, warn=True)\n"
     ]
    },
    {
     "data": {
      "text/html": [
       "<style>#sk-container-id-4 {color: black;}#sk-container-id-4 pre{padding: 0;}#sk-container-id-4 div.sk-toggleable {background-color: white;}#sk-container-id-4 label.sk-toggleable__label {cursor: pointer;display: block;width: 100%;margin-bottom: 0;padding: 0.3em;box-sizing: border-box;text-align: center;}#sk-container-id-4 label.sk-toggleable__label-arrow:before {content: \"▸\";float: left;margin-right: 0.25em;color: #696969;}#sk-container-id-4 label.sk-toggleable__label-arrow:hover:before {color: black;}#sk-container-id-4 div.sk-estimator:hover label.sk-toggleable__label-arrow:before {color: black;}#sk-container-id-4 div.sk-toggleable__content {max-height: 0;max-width: 0;overflow: hidden;text-align: left;background-color: #f0f8ff;}#sk-container-id-4 div.sk-toggleable__content pre {margin: 0.2em;color: black;border-radius: 0.25em;background-color: #f0f8ff;}#sk-container-id-4 input.sk-toggleable__control:checked~div.sk-toggleable__content {max-height: 200px;max-width: 100%;overflow: auto;}#sk-container-id-4 input.sk-toggleable__control:checked~label.sk-toggleable__label-arrow:before {content: \"▾\";}#sk-container-id-4 div.sk-estimator input.sk-toggleable__control:checked~label.sk-toggleable__label {background-color: #d4ebff;}#sk-container-id-4 div.sk-label input.sk-toggleable__control:checked~label.sk-toggleable__label {background-color: #d4ebff;}#sk-container-id-4 input.sk-hidden--visually {border: 0;clip: rect(1px 1px 1px 1px);clip: rect(1px, 1px, 1px, 1px);height: 1px;margin: -1px;overflow: hidden;padding: 0;position: absolute;width: 1px;}#sk-container-id-4 div.sk-estimator {font-family: monospace;background-color: #f0f8ff;border: 1px dotted black;border-radius: 0.25em;box-sizing: border-box;margin-bottom: 0.5em;}#sk-container-id-4 div.sk-estimator:hover {background-color: #d4ebff;}#sk-container-id-4 div.sk-parallel-item::after {content: \"\";width: 100%;border-bottom: 1px solid gray;flex-grow: 1;}#sk-container-id-4 div.sk-label:hover label.sk-toggleable__label {background-color: #d4ebff;}#sk-container-id-4 div.sk-serial::before {content: \"\";position: absolute;border-left: 1px solid gray;box-sizing: border-box;top: 0;bottom: 0;left: 50%;z-index: 0;}#sk-container-id-4 div.sk-serial {display: flex;flex-direction: column;align-items: center;background-color: white;padding-right: 0.2em;padding-left: 0.2em;position: relative;}#sk-container-id-4 div.sk-item {position: relative;z-index: 1;}#sk-container-id-4 div.sk-parallel {display: flex;align-items: stretch;justify-content: center;background-color: white;position: relative;}#sk-container-id-4 div.sk-item::before, #sk-container-id-4 div.sk-parallel-item::before {content: \"\";position: absolute;border-left: 1px solid gray;box-sizing: border-box;top: 0;bottom: 0;left: 50%;z-index: -1;}#sk-container-id-4 div.sk-parallel-item {display: flex;flex-direction: column;z-index: 1;position: relative;background-color: white;}#sk-container-id-4 div.sk-parallel-item:first-child::after {align-self: flex-end;width: 50%;}#sk-container-id-4 div.sk-parallel-item:last-child::after {align-self: flex-start;width: 50%;}#sk-container-id-4 div.sk-parallel-item:only-child::after {width: 0;}#sk-container-id-4 div.sk-dashed-wrapped {border: 1px dashed gray;margin: 0 0.4em 0.5em 0.4em;box-sizing: border-box;padding-bottom: 0.4em;background-color: white;}#sk-container-id-4 div.sk-label label {font-family: monospace;font-weight: bold;display: inline-block;line-height: 1.2em;}#sk-container-id-4 div.sk-label-container {text-align: center;}#sk-container-id-4 div.sk-container {/* jupyter's `normalize.less` sets `[hidden] { display: none; }` but bootstrap.min.css set `[hidden] { display: none !important; }` so we also need the `!important` here to be able to override the default hidden behavior on the sphinx rendered scikit-learn.org. See: https://github.com/scikit-learn/scikit-learn/issues/21755 */display: inline-block !important;position: relative;}#sk-container-id-4 div.sk-text-repr-fallback {display: none;}</style><div id=\"sk-container-id-4\" class=\"sk-top-container\"><div class=\"sk-text-repr-fallback\"><pre>SVR()</pre><b>In a Jupyter environment, please rerun this cell to show the HTML representation or trust the notebook. <br />On GitHub, the HTML representation is unable to render, please try loading this page with nbviewer.org.</b></div><div class=\"sk-container\" hidden><div class=\"sk-item\"><div class=\"sk-estimator sk-toggleable\"><input class=\"sk-toggleable__control sk-hidden--visually\" id=\"sk-estimator-id-4\" type=\"checkbox\" checked><label for=\"sk-estimator-id-4\" class=\"sk-toggleable__label sk-toggleable__label-arrow\">SVR</label><div class=\"sk-toggleable__content\"><pre>SVR()</pre></div></div></div></div></div>"
      ],
      "text/plain": [
       "SVR()"
      ]
     },
     "execution_count": 113,
     "metadata": {},
     "output_type": "execute_result"
    }
   ],
   "source": [
    "from sklearn.preprocessing import StandardScaler\n",
    "#for the SVN we need to reshape the y axis\n",
    "y_reshaped = y.reshape(len(y), 1)\n",
    "\n",
    "X_train_svr, X_test_svr, y_train_svr, y_test_svr = train_test_split(X, y_reshaped, test_size=0.2, random_state=0)\n",
    "scaler_X = StandardScaler()\n",
    "scaler_y = StandardScaler()\n",
    "X_train_svr = scaler_X.fit_transform(X_train_svr)\n",
    "y_train_svr = scaler_y.fit_transform(y_train_svr)\n",
    "\n",
    "from sklearn.svm import SVR\n",
    "regressor = SVR(kernel=\"rbf\")\n",
    "regressor.fit(X_train_svr, y_train_svr)\n",
    "\n",
    "y_pred = scaler_y.inverse_transform(regressor.predict(scaler_X.transform(X_test_svr)))\n",
    "    # r2_score(X_test_svr, y_)"
   ]
  }
 ],
 "metadata": {
  "kernelspec": {
   "display_name": "Python 3",
   "language": "python",
   "name": "python3"
  },
  "language_info": {
   "codemirror_mode": {
    "name": "ipython",
    "version": 3
   },
   "file_extension": ".py",
   "mimetype": "text/x-python",
   "name": "python",
   "nbconvert_exporter": "python",
   "pygments_lexer": "ipython3",
   "version": "3.10.5"
  },
  "orig_nbformat": 4
 },
 "nbformat": 4,
 "nbformat_minor": 2
}
