{
 "cells": [
  {
   "cell_type": "markdown",
   "metadata": {},
   "source": [
    "Model Selection"
   ]
  },
  {
   "cell_type": "code",
   "execution_count": 1,
   "metadata": {},
   "outputs": [],
   "source": [
    "import numpy as np\n",
    "import pandas as pd\n",
    "import matplotlib.pyplot as plt \n",
    "from sklearn.metrics import r2_score"
   ]
  },
  {
   "cell_type": "code",
   "execution_count": 2,
   "metadata": {},
   "outputs": [],
   "source": [
    "dataset = pd.read_csv(\"dataset/Data.csv\")\n",
    "X = dataset.iloc[:, :-1].values\n",
    "y = dataset.iloc[:, -1].values"
   ]
  },
  {
   "cell_type": "markdown",
   "metadata": {},
   "source": [
    "Splitting the dataset into training and test set"
   ]
  },
  {
   "cell_type": "code",
   "execution_count": 3,
   "metadata": {},
   "outputs": [],
   "source": [
    "from sklearn.model_selection import train_test_split\n",
    "X_train, X_test, y_train, y_test = train_test_split(X, y, test_size=0.2, random_state=0)"
   ]
  },
  {
   "cell_type": "code",
   "execution_count": 4,
   "metadata": {},
   "outputs": [
    {
     "name": "stdout",
     "output_type": "stream",
     "text": [
      "[[ 752904      10       1 ...       5       4       1]\n",
      " [1218860       1       1 ...       3       1       1]\n",
      " [ 411453       5       1 ...       3       1       1]\n",
      " ...\n",
      " [1214092       1       1 ...       1       1       1]\n",
      " [1303489       3       1 ...       2       1       1]\n",
      " [ 378275      10       9 ...       7       7       1]]\n"
     ]
    }
   ],
   "source": [
    "print(X_train)   "
   ]
  },
  {
   "cell_type": "markdown",
   "metadata": {},
   "source": [
    "Multiple Linear Regression"
   ]
  },
  {
   "cell_type": "code",
   "execution_count": 5,
   "metadata": {},
   "outputs": [
    {
     "name": "stdout",
     "output_type": "stream",
     "text": [
      "[[2.25 2.  ]\n",
      " [2.03 2.  ]\n",
      " [3.52 4.  ]\n",
      " [3.7  4.  ]\n",
      " [1.89 2.  ]\n",
      " [2.09 2.  ]\n",
      " [2.26 2.  ]\n",
      " [3.94 4.  ]\n",
      " [2.07 2.  ]\n",
      " [1.94 2.  ]\n",
      " [4.   4.  ]\n",
      " [2.17 2.  ]\n",
      " [4.23 4.  ]\n",
      " [2.04 2.  ]\n",
      " [2.22 2.  ]\n",
      " [2.7  2.  ]\n",
      " [3.58 4.  ]\n",
      " [4.11 4.  ]\n",
      " [4.21 4.  ]\n",
      " [2.18 2.  ]\n",
      " [2.03 2.  ]\n",
      " [2.11 2.  ]\n",
      " [3.12 4.  ]\n",
      " [1.99 2.  ]\n",
      " [3.83 4.  ]\n",
      " [3.9  4.  ]\n",
      " [2.2  2.  ]\n",
      " [1.92 2.  ]\n",
      " [2.1  2.  ]\n",
      " [3.74 4.  ]\n",
      " [1.88 2.  ]\n",
      " [4.31 4.  ]\n",
      " [4.59 4.  ]\n",
      " [2.07 2.  ]\n",
      " [2.05 2.  ]\n",
      " [2.07 2.  ]\n",
      " [3.83 4.  ]\n",
      " [3.63 4.  ]\n",
      " [2.05 2.  ]\n",
      " [3.9  4.  ]\n",
      " [2.26 2.  ]\n",
      " [2.43 2.  ]\n",
      " [2.01 2.  ]\n",
      " [1.96 2.  ]\n",
      " [1.88 2.  ]\n",
      " [2.13 2.  ]\n",
      " [1.97 2.  ]\n",
      " [4.23 4.  ]\n",
      " [2.13 2.  ]\n",
      " [2.11 2.  ]\n",
      " [3.77 4.  ]\n",
      " [2.15 2.  ]\n",
      " [3.49 4.  ]\n",
      " [2.13 2.  ]\n",
      " [2.18 2.  ]\n",
      " [2.31 2.  ]\n",
      " [3.8  4.  ]\n",
      " [3.48 2.  ]\n",
      " [2.4  2.  ]\n",
      " [3.88 4.  ]\n",
      " [1.96 2.  ]\n",
      " [1.98 2.  ]\n",
      " [2.02 2.  ]\n",
      " [1.99 2.  ]\n",
      " [2.07 2.  ]\n",
      " [1.96 2.  ]\n",
      " [1.97 2.  ]\n",
      " [2.09 2.  ]\n",
      " [3.64 4.  ]\n",
      " [2.84 4.  ]\n",
      " [1.94 2.  ]\n",
      " [2.05 2.  ]\n",
      " [1.92 2.  ]\n",
      " [2.07 2.  ]\n",
      " [2.32 2.  ]\n",
      " [2.13 2.  ]\n",
      " [3.8  4.  ]\n",
      " [2.05 2.  ]\n",
      " [2.03 2.  ]\n",
      " [1.93 2.  ]\n",
      " [4.17 4.  ]\n",
      " [2.08 2.  ]\n",
      " [3.8  4.  ]\n",
      " [1.97 2.  ]\n",
      " [1.88 2.  ]\n",
      " [4.63 4.  ]\n",
      " [2.22 2.  ]\n",
      " [3.12 2.  ]\n",
      " [3.87 4.  ]\n",
      " [2.41 2.  ]\n",
      " [3.86 4.  ]\n",
      " [2.   2.  ]\n",
      " [3.5  4.  ]\n",
      " [2.75 4.  ]\n",
      " [2.77 4.  ]\n",
      " [2.94 2.  ]\n",
      " [3.73 4.  ]\n",
      " [4.11 4.  ]\n",
      " [2.72 4.  ]\n",
      " [2.18 2.  ]\n",
      " [2.2  2.  ]\n",
      " [1.98 2.  ]\n",
      " [4.19 4.  ]\n",
      " [3.99 4.  ]\n",
      " [2.13 2.  ]\n",
      " [2.11 2.  ]\n",
      " [3.99 4.  ]\n",
      " [2.89 4.  ]\n",
      " [2.   2.  ]\n",
      " [1.88 2.  ]\n",
      " [3.66 4.  ]\n",
      " [2.19 2.  ]\n",
      " [2.03 2.  ]\n",
      " [4.47 4.  ]\n",
      " [1.93 2.  ]\n",
      " [2.57 2.  ]\n",
      " [2.18 2.  ]\n",
      " [2.62 4.  ]\n",
      " [1.92 2.  ]\n",
      " [1.94 2.  ]\n",
      " [1.93 2.  ]\n",
      " [3.52 4.  ]\n",
      " [2.05 2.  ]\n",
      " [1.93 2.  ]\n",
      " [4.1  4.  ]\n",
      " [4.56 4.  ]\n",
      " [2.25 2.  ]\n",
      " [3.38 4.  ]\n",
      " [1.96 2.  ]\n",
      " [3.91 4.  ]\n",
      " [2.15 2.  ]\n",
      " [1.94 2.  ]\n",
      " [4.   4.  ]\n",
      " [1.94 2.  ]\n",
      " [2.1  2.  ]\n",
      " [4.2  4.  ]\n",
      " [2.01 2.  ]]\n"
     ]
    },
    {
     "data": {
      "text/plain": [
       "0.8354489501242135"
      ]
     },
     "execution_count": 5,
     "metadata": {},
     "output_type": "execute_result"
    }
   ],
   "source": [
    "from sklearn.linear_model import LinearRegression\n",
    "regressor = LinearRegression()\n",
    "regressor.fit(X_train, y_train)\n",
    "y_pred = regressor.predict(X_test)\n",
    "np.set_printoptions(precision=2)\n",
    "print(np.concatenate(( y_pred.reshape(len(y_pred), 1), y_test.reshape(len(y_test), 1)), 1))\n",
    "r2_score(y_test, y_pred)"
   ]
  },
  {
   "cell_type": "markdown",
   "metadata": {},
   "source": [
    "Polynomial Linear Regression"
   ]
  },
  {
   "cell_type": "code",
   "execution_count": 6,
   "metadata": {},
   "outputs": [
    {
     "data": {
      "text/plain": [
       "0.6085483223694554"
      ]
     },
     "execution_count": 6,
     "metadata": {},
     "output_type": "execute_result"
    }
   ],
   "source": [
    "from sklearn.preprocessing import PolynomialFeatures\n",
    "poly_reg = PolynomialFeatures(degree=4)\n",
    "X_poly = poly_reg.fit_transform(X_train)\n",
    "regressor = LinearRegression()\n",
    "regressor.fit(X_poly, y_train)\n",
    "y_pred = regressor.predict(poly_reg.transform(X_test))\n",
    "r2_score(y_test, y_pred)"
   ]
  },
  {
   "cell_type": "markdown",
   "metadata": {},
   "source": [
    "Decision Tree Model"
   ]
  },
  {
   "cell_type": "code",
   "execution_count": 7,
   "metadata": {},
   "outputs": [
    {
     "data": {
      "text/plain": [
       "0.6535632183908047"
      ]
     },
     "execution_count": 7,
     "metadata": {},
     "output_type": "execute_result"
    }
   ],
   "source": [
    "from sklearn.tree import DecisionTreeRegressor\n",
    "regressor = DecisionTreeRegressor(random_state=0)\n",
    "regressor.fit(X_train, y_train)\n",
    "r2_score(y_test, regressor.predict(X_test))"
   ]
  },
  {
   "cell_type": "markdown",
   "metadata": {},
   "source": [
    "Random Forest"
   ]
  },
  {
   "cell_type": "code",
   "execution_count": 8,
   "metadata": {},
   "outputs": [
    {
     "data": {
      "text/plain": [
       "0.8447333333333333"
      ]
     },
     "execution_count": 8,
     "metadata": {},
     "output_type": "execute_result"
    }
   ],
   "source": [
    "from sklearn.ensemble import RandomForestRegressor\n",
    "regressor = RandomForestRegressor(n_estimators=10, random_state=0)\n",
    "regressor.fit(X_train, y_train)\n",
    "r2_score(y_test, regressor.predict(X_test))"
   ]
  },
  {
   "cell_type": "markdown",
   "metadata": {},
   "source": [
    "Support Vector Regression (SVR)"
   ]
  },
  {
   "cell_type": "code",
   "execution_count": 9,
   "metadata": {},
   "outputs": [
    {
     "name": "stderr",
     "output_type": "stream",
     "text": [
      "c:\\Python310\\lib\\site-packages\\sklearn\\utils\\validation.py:1184: DataConversionWarning: A column-vector y was passed when a 1d array was expected. Please change the shape of y to (n_samples, ), for example using ravel().\n",
      "  y = column_or_1d(y, warn=True)\n"
     ]
    },
    {
     "ename": "ValueError",
     "evalue": "Expected 2D array, got 1D array instead:\narray=[-0.62 -0.82  1.34  1.35 -0.71 -0.79 -0.76  1.42 -0.61 -0.69  1.47 -0.79\n  1.31 -0.83 -0.65  0.61  1.48  1.29  1.33 -0.77 -0.81 -0.84  0.99 -0.77\n  1.62  1.48 -0.75 -0.73 -0.75  1.72 -0.69  1.1   1.34 -0.83 -0.79 -0.83\n  1.42  1.45 -0.8   1.33 -0.74 -0.31 -0.77 -0.71 -0.69 -0.81 -0.64  1.33\n -0.78 -0.73  1.43 -0.83  1.5  -0.75 -0.76 -0.67  1.33  1.4  -0.6   1.24\n -0.77 -0.73 -0.8  -0.8  -0.83 -0.77 -0.79 -0.77  1.48  0.9  -0.73 -0.69\n -0.74 -0.68 -0.7  -0.81  1.55 -0.78 -0.8  -0.76  1.35 -0.8   1.35 -0.78\n -0.7   1.33 -0.72  1.03  1.34 -0.4   1.47 -0.76  1.4   0.97  0.11  0.86\n  1.37  1.29  0.73 -0.73 -0.69 -0.77  1.35  1.36 -0.81 -0.67  1.25  0.43\n -0.75 -0.67  1.36 -0.74 -0.82  1.26 -0.73  0.12 -0.73  0.71 -0.73 -0.77\n -0.75  1.52 -0.76 -0.75  1.34  1.32 -0.62  1.08 -0.77  1.41  0.23 -0.73\n  1.48 -0.76 -0.74  1.21 -0.81].\nReshape your data either using array.reshape(-1, 1) if your data has a single feature or array.reshape(1, -1) if it contains a single sample.",
     "output_type": "error",
     "traceback": [
      "\u001b[1;31m---------------------------------------------------------------------------\u001b[0m",
      "\u001b[1;31mValueError\u001b[0m                                Traceback (most recent call last)",
      "Cell \u001b[1;32mIn[9], line 15\u001b[0m\n\u001b[0;32m     12\u001b[0m regressor \u001b[39m=\u001b[39m SVR(kernel\u001b[39m=\u001b[39m\u001b[39m\"\u001b[39m\u001b[39mrbf\u001b[39m\u001b[39m\"\u001b[39m)\n\u001b[0;32m     13\u001b[0m regressor\u001b[39m.\u001b[39mfit(X_train_svr, y_train_svr)\n\u001b[1;32m---> 15\u001b[0m y_pred \u001b[39m=\u001b[39m scaler_y\u001b[39m.\u001b[39;49minverse_transform(regressor\u001b[39m.\u001b[39;49mpredict(scaler_X\u001b[39m.\u001b[39;49mtransform(X_test_svr)))\n\u001b[0;32m     16\u001b[0m     \u001b[39m# r2_score(X_test_svr, y_)\u001b[39;00m\n",
      "File \u001b[1;32mc:\\Python310\\lib\\site-packages\\sklearn\\preprocessing\\_data.py:1046\u001b[0m, in \u001b[0;36mStandardScaler.inverse_transform\u001b[1;34m(self, X, copy)\u001b[0m\n\u001b[0;32m   1043\u001b[0m check_is_fitted(\u001b[39mself\u001b[39m)\n\u001b[0;32m   1045\u001b[0m copy \u001b[39m=\u001b[39m copy \u001b[39mif\u001b[39;00m copy \u001b[39mis\u001b[39;00m \u001b[39mnot\u001b[39;00m \u001b[39mNone\u001b[39;00m \u001b[39melse\u001b[39;00m \u001b[39mself\u001b[39m\u001b[39m.\u001b[39mcopy\n\u001b[1;32m-> 1046\u001b[0m X \u001b[39m=\u001b[39m check_array(\n\u001b[0;32m   1047\u001b[0m     X,\n\u001b[0;32m   1048\u001b[0m     accept_sparse\u001b[39m=\u001b[39;49m\u001b[39m\"\u001b[39;49m\u001b[39mcsr\u001b[39;49m\u001b[39m\"\u001b[39;49m,\n\u001b[0;32m   1049\u001b[0m     copy\u001b[39m=\u001b[39;49mcopy,\n\u001b[0;32m   1050\u001b[0m     dtype\u001b[39m=\u001b[39;49mFLOAT_DTYPES,\n\u001b[0;32m   1051\u001b[0m     force_all_finite\u001b[39m=\u001b[39;49m\u001b[39m\"\u001b[39;49m\u001b[39mallow-nan\u001b[39;49m\u001b[39m\"\u001b[39;49m,\n\u001b[0;32m   1052\u001b[0m )\n\u001b[0;32m   1054\u001b[0m \u001b[39mif\u001b[39;00m sparse\u001b[39m.\u001b[39missparse(X):\n\u001b[0;32m   1055\u001b[0m     \u001b[39mif\u001b[39;00m \u001b[39mself\u001b[39m\u001b[39m.\u001b[39mwith_mean:\n",
      "File \u001b[1;32mc:\\Python310\\lib\\site-packages\\sklearn\\utils\\validation.py:940\u001b[0m, in \u001b[0;36mcheck_array\u001b[1;34m(array, accept_sparse, accept_large_sparse, dtype, order, copy, force_all_finite, ensure_2d, allow_nd, ensure_min_samples, ensure_min_features, estimator, input_name)\u001b[0m\n\u001b[0;32m    938\u001b[0m     \u001b[39m# If input is 1D raise error\u001b[39;00m\n\u001b[0;32m    939\u001b[0m     \u001b[39mif\u001b[39;00m array\u001b[39m.\u001b[39mndim \u001b[39m==\u001b[39m \u001b[39m1\u001b[39m:\n\u001b[1;32m--> 940\u001b[0m         \u001b[39mraise\u001b[39;00m \u001b[39mValueError\u001b[39;00m(\n\u001b[0;32m    941\u001b[0m             \u001b[39m\"\u001b[39m\u001b[39mExpected 2D array, got 1D array instead:\u001b[39m\u001b[39m\\n\u001b[39;00m\u001b[39marray=\u001b[39m\u001b[39m{}\u001b[39;00m\u001b[39m.\u001b[39m\u001b[39m\\n\u001b[39;00m\u001b[39m\"\u001b[39m\n\u001b[0;32m    942\u001b[0m             \u001b[39m\"\u001b[39m\u001b[39mReshape your data either using array.reshape(-1, 1) if \u001b[39m\u001b[39m\"\u001b[39m\n\u001b[0;32m    943\u001b[0m             \u001b[39m\"\u001b[39m\u001b[39myour data has a single feature or array.reshape(1, -1) \u001b[39m\u001b[39m\"\u001b[39m\n\u001b[0;32m    944\u001b[0m             \u001b[39m\"\u001b[39m\u001b[39mif it contains a single sample.\u001b[39m\u001b[39m\"\u001b[39m\u001b[39m.\u001b[39mformat(array)\n\u001b[0;32m    945\u001b[0m         )\n\u001b[0;32m    947\u001b[0m \u001b[39mif\u001b[39;00m dtype_numeric \u001b[39mand\u001b[39;00m \u001b[39mhasattr\u001b[39m(array\u001b[39m.\u001b[39mdtype, \u001b[39m\"\u001b[39m\u001b[39mkind\u001b[39m\u001b[39m\"\u001b[39m) \u001b[39mand\u001b[39;00m array\u001b[39m.\u001b[39mdtype\u001b[39m.\u001b[39mkind \u001b[39min\u001b[39;00m \u001b[39m\"\u001b[39m\u001b[39mUSV\u001b[39m\u001b[39m\"\u001b[39m:\n\u001b[0;32m    948\u001b[0m     \u001b[39mraise\u001b[39;00m \u001b[39mValueError\u001b[39;00m(\n\u001b[0;32m    949\u001b[0m         \u001b[39m\"\u001b[39m\u001b[39mdtype=\u001b[39m\u001b[39m'\u001b[39m\u001b[39mnumeric\u001b[39m\u001b[39m'\u001b[39m\u001b[39m is not compatible with arrays of bytes/strings.\u001b[39m\u001b[39m\"\u001b[39m\n\u001b[0;32m    950\u001b[0m         \u001b[39m\"\u001b[39m\u001b[39mConvert your data to numeric values explicitly instead.\u001b[39m\u001b[39m\"\u001b[39m\n\u001b[0;32m    951\u001b[0m     )\n",
      "\u001b[1;31mValueError\u001b[0m: Expected 2D array, got 1D array instead:\narray=[-0.62 -0.82  1.34  1.35 -0.71 -0.79 -0.76  1.42 -0.61 -0.69  1.47 -0.79\n  1.31 -0.83 -0.65  0.61  1.48  1.29  1.33 -0.77 -0.81 -0.84  0.99 -0.77\n  1.62  1.48 -0.75 -0.73 -0.75  1.72 -0.69  1.1   1.34 -0.83 -0.79 -0.83\n  1.42  1.45 -0.8   1.33 -0.74 -0.31 -0.77 -0.71 -0.69 -0.81 -0.64  1.33\n -0.78 -0.73  1.43 -0.83  1.5  -0.75 -0.76 -0.67  1.33  1.4  -0.6   1.24\n -0.77 -0.73 -0.8  -0.8  -0.83 -0.77 -0.79 -0.77  1.48  0.9  -0.73 -0.69\n -0.74 -0.68 -0.7  -0.81  1.55 -0.78 -0.8  -0.76  1.35 -0.8   1.35 -0.78\n -0.7   1.33 -0.72  1.03  1.34 -0.4   1.47 -0.76  1.4   0.97  0.11  0.86\n  1.37  1.29  0.73 -0.73 -0.69 -0.77  1.35  1.36 -0.81 -0.67  1.25  0.43\n -0.75 -0.67  1.36 -0.74 -0.82  1.26 -0.73  0.12 -0.73  0.71 -0.73 -0.77\n -0.75  1.52 -0.76 -0.75  1.34  1.32 -0.62  1.08 -0.77  1.41  0.23 -0.73\n  1.48 -0.76 -0.74  1.21 -0.81].\nReshape your data either using array.reshape(-1, 1) if your data has a single feature or array.reshape(1, -1) if it contains a single sample."
     ]
    }
   ],
   "source": [
    "from sklearn.preprocessing import StandardScaler\n",
    "#for the SVN we need to reshape the y axis\n",
    "y_reshaped = y.reshape(len(y), 1)\n",
    "\n",
    "X_train_svr, X_test_svr, y_train_svr, y_test_svr = train_test_split(X, y_reshaped, test_size=0.2, random_state=0)\n",
    "scaler_X = StandardScaler()\n",
    "scaler_y = StandardScaler()\n",
    "X_train_svr = scaler_X.fit_transform(X_train_svr)\n",
    "y_train_svr = scaler_y.fit_transform(y_train_svr)\n",
    "\n",
    "from sklearn.svm import SVR\n",
    "regressor = SVR(kernel=\"rbf\")\n",
    "regressor.fit(X_train_svr, y_train_svr)\n",
    "\n",
    "y_pred = scaler_y.inverse_transform(regressor.predict(scaler_X.transform(X_test_svr)))\n",
    "    # r2_score(X_test_svr, y_)"
   ]
  }
 ],
 "metadata": {
  "kernelspec": {
   "display_name": "Python 3",
   "language": "python",
   "name": "python3"
  },
  "language_info": {
   "codemirror_mode": {
    "name": "ipython",
    "version": 3
   },
   "file_extension": ".py",
   "mimetype": "text/x-python",
   "name": "python",
   "nbconvert_exporter": "python",
   "pygments_lexer": "ipython3",
   "version": "3.10.5"
  },
  "orig_nbformat": 4
 },
 "nbformat": 4,
 "nbformat_minor": 2
}
