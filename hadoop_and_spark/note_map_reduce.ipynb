{
 "cells": [
  {
   "cell_type": "markdown",
   "metadata": {},
   "source": [
    "<h2>MapReduce</h2>"
   ]
  },
  {
   "cell_type": "markdown",
   "metadata": {},
   "source": [
    "Reset all variables before running the notebook"
   ]
  },
  {
   "cell_type": "code",
   "execution_count": 11,
   "metadata": {},
   "outputs": [],
   "source": [
    "%reset -f"
   ]
  },
  {
   "cell_type": "markdown",
   "metadata": {},
   "source": [
    "<h3>Importing libraries</h3>"
   ]
  },
  {
   "cell_type": "code",
   "execution_count": 12,
   "metadata": {},
   "outputs": [],
   "source": [
    "import pandas as pd\n",
    "from collections import Counter\n",
    "from datetime import datetime\n",
    "import os\n",
    "import time"
   ]
  },
  {
   "cell_type": "markdown",
   "metadata": {},
   "source": [
    "This option is set to avoid scientific notation in pandas dataframe"
   ]
  },
  {
   "cell_type": "code",
   "execution_count": 13,
   "metadata": {},
   "outputs": [],
   "source": [
    "pd.options.display.float_format = '{:.2f}'.format"
   ]
  },
  {
   "cell_type": "markdown",
   "metadata": {},
   "source": [
    "<h3>Reading File and creating the dataframe</h3>"
   ]
  },
  {
   "cell_type": "markdown",
   "metadata": {},
   "source": [
    "Start timer"
   ]
  },
  {
   "cell_type": "code",
   "execution_count": 14,
   "metadata": {},
   "outputs": [],
   "source": [
    "start_time = time.time()"
   ]
  },
  {
   "cell_type": "code",
   "execution_count": 15,
   "metadata": {},
   "outputs": [],
   "source": [
    "df = pd.read_csv('transformed_data/output.csv', sep=';', dtype=str, encoding='utf-8')"
   ]
  },
  {
   "cell_type": "code",
   "execution_count": 16,
   "metadata": {},
   "outputs": [
    {
     "data": {
      "text/html": [
       "<div>\n",
       "<style scoped>\n",
       "    .dataframe tbody tr th:only-of-type {\n",
       "        vertical-align: middle;\n",
       "    }\n",
       "\n",
       "    .dataframe tbody tr th {\n",
       "        vertical-align: top;\n",
       "    }\n",
       "\n",
       "    .dataframe thead th {\n",
       "        text-align: right;\n",
       "    }\n",
       "</style>\n",
       "<table border=\"1\" class=\"dataframe\">\n",
       "  <thead>\n",
       "    <tr style=\"text-align: right;\">\n",
       "      <th></th>\n",
       "      <th>Id</th>\n",
       "      <th>Title</th>\n",
       "      <th>review/helpfulness</th>\n",
       "      <th>review/score</th>\n",
       "      <th>review/time</th>\n",
       "      <th>review/summary</th>\n",
       "      <th>review/text</th>\n",
       "    </tr>\n",
       "  </thead>\n",
       "  <tbody>\n",
       "    <tr>\n",
       "      <th>0</th>\n",
       "      <td>1882931173</td>\n",
       "      <td>Its Only Art If Its Well Hung!</td>\n",
       "      <td>7/7</td>\n",
       "      <td>4.0</td>\n",
       "      <td>940636800</td>\n",
       "      <td>Nice collection of Julie Strain images</td>\n",
       "      <td>This is only for Julie Strain fans. It's a col...</td>\n",
       "    </tr>\n",
       "    <tr>\n",
       "      <th>1</th>\n",
       "      <td>0826414346</td>\n",
       "      <td>Dr. Seuss: American Icon</td>\n",
       "      <td>10/10</td>\n",
       "      <td>5.0</td>\n",
       "      <td>1095724800</td>\n",
       "      <td>Really Enjoyed It</td>\n",
       "      <td>I don't care much for Dr. Seuss but after read...</td>\n",
       "    </tr>\n",
       "    <tr>\n",
       "      <th>2</th>\n",
       "      <td>0826414346</td>\n",
       "      <td>Dr. Seuss: American Icon</td>\n",
       "      <td>10/11</td>\n",
       "      <td>5.0</td>\n",
       "      <td>1078790400</td>\n",
       "      <td>Essential for every personal and Public Library</td>\n",
       "      <td>If people become the books they read and if \"t...</td>\n",
       "    </tr>\n",
       "    <tr>\n",
       "      <th>3</th>\n",
       "      <td>0826414346</td>\n",
       "      <td>Dr. Seuss: American Icon</td>\n",
       "      <td>7/7</td>\n",
       "      <td>4.0</td>\n",
       "      <td>1090713600</td>\n",
       "      <td>Phlip Nel gives silly Seuss a serious treatment</td>\n",
       "      <td>Theodore Seuss Geisel (1904-1991), aka &amp;quot;D...</td>\n",
       "    </tr>\n",
       "    <tr>\n",
       "      <th>4</th>\n",
       "      <td>0826414346</td>\n",
       "      <td>Dr. Seuss: American Icon</td>\n",
       "      <td>3/3</td>\n",
       "      <td>4.0</td>\n",
       "      <td>1107993600</td>\n",
       "      <td>Good academic overview</td>\n",
       "      <td>Philip Nel - Dr. Seuss: American IconThis is b...</td>\n",
       "    </tr>\n",
       "  </tbody>\n",
       "</table>\n",
       "</div>"
      ],
      "text/plain": [
       "           Id                           Title review/helpfulness review/score   \n",
       "0  1882931173  Its Only Art If Its Well Hung!                7/7          4.0  \\\n",
       "1  0826414346        Dr. Seuss: American Icon              10/10          5.0   \n",
       "2  0826414346        Dr. Seuss: American Icon              10/11          5.0   \n",
       "3  0826414346        Dr. Seuss: American Icon                7/7          4.0   \n",
       "4  0826414346        Dr. Seuss: American Icon                3/3          4.0   \n",
       "\n",
       "  review/time                                   review/summary   \n",
       "0   940636800           Nice collection of Julie Strain images  \\\n",
       "1  1095724800                                Really Enjoyed It   \n",
       "2  1078790400  Essential for every personal and Public Library   \n",
       "3  1090713600  Phlip Nel gives silly Seuss a serious treatment   \n",
       "4  1107993600                           Good academic overview   \n",
       "\n",
       "                                         review/text  \n",
       "0  This is only for Julie Strain fans. It's a col...  \n",
       "1  I don't care much for Dr. Seuss but after read...  \n",
       "2  If people become the books they read and if \"t...  \n",
       "3  Theodore Seuss Geisel (1904-1991), aka &quot;D...  \n",
       "4  Philip Nel - Dr. Seuss: American IconThis is b...  "
      ]
     },
     "execution_count": 16,
     "metadata": {},
     "output_type": "execute_result"
    }
   ],
   "source": [
    "df.head()"
   ]
  },
  {
   "cell_type": "markdown",
   "metadata": {},
   "source": [
    "<h3>Listing all words</h3>"
   ]
  },
  {
   "cell_type": "markdown",
   "metadata": {},
   "source": [
    "Creating a unique list with the content of all cells"
   ]
  },
  {
   "cell_type": "code",
   "execution_count": 17,
   "metadata": {},
   "outputs": [],
   "source": [
    "cells_content = []\n",
    "for column in df.columns:\n",
    "    cells_content += df[column].astype('str').str.split(';').explode().to_list()\n",
    "\n",
    "cells_content = [word.strip() for word in cells_content if word.strip().isalpha()]"
   ]
  },
  {
   "cell_type": "markdown",
   "metadata": {},
   "source": [
    "Deleting the df dataframe to release memory"
   ]
  },
  {
   "cell_type": "code",
   "execution_count": 18,
   "metadata": {},
   "outputs": [],
   "source": [
    "del df"
   ]
  },
  {
   "cell_type": "markdown",
   "metadata": {},
   "source": [
    "Filtering and Splitting cells with multiples words"
   ]
  },
  {
   "cell_type": "code",
   "execution_count": 19,
   "metadata": {},
   "outputs": [],
   "source": [
    "word_list = []\n",
    "for content in cells_content:\n",
    "    content_splitted = content.split()\n",
    "    if len(content_splitted) == 1:\n",
    "        word_list += content_splitted\n",
    "    elif len(content_splitted) > 1:\n",
    "        for word in content_splitted:\n",
    "            word_list.append(word)"
   ]
  },
  {
   "cell_type": "code",
   "execution_count": 20,
   "metadata": {},
   "outputs": [],
   "source": [
    "del cells_content"
   ]
  },
  {
   "cell_type": "markdown",
   "metadata": {},
   "source": [
    "<h3>Creating log dataframe</h3>"
   ]
  },
  {
   "cell_type": "code",
   "execution_count": 21,
   "metadata": {},
   "outputs": [],
   "source": [
    "header = ['date and time',\n",
    "          'program',\n",
    "          'Execution time (s)', \n",
    "          'Qty of words', \n",
    "          'Qty of repeated words', \n",
    "          'Qty of non repeated words', \n",
    "          '1ª most repeated word', \n",
    "          '1ª most repeated word (Freq)',\n",
    "          '2ª most repeated word', \n",
    "          '2ª most repeated word (Freq)',\n",
    "          '3ª most repeated word',\n",
    "          '3ª most repeated word (Freq)',]\n",
    "log_df = pd.DataFrame(columns=header)"
   ]
  },
  {
   "cell_type": "markdown",
   "metadata": {},
   "source": [
    "<h3>Counting words</h3>"
   ]
  },
  {
   "cell_type": "code",
   "execution_count": 22,
   "metadata": {},
   "outputs": [],
   "source": [
    "counted_words = Counter(word_list)\n",
    "most_common = counted_words.most_common()\n",
    "repeated_words = [word for word in most_common if word[1] > 1]\n",
    "non_repeated_words = [word for word in most_common if word[1] == 1]"
   ]
  },
  {
   "cell_type": "markdown",
   "metadata": {},
   "source": [
    "Stop timer"
   ]
  },
  {
   "cell_type": "code",
   "execution_count": 23,
   "metadata": {},
   "outputs": [],
   "source": [
    "stop_time = time.time()\n",
    "execution_time = stop_time - start_time\n",
    "\n",
    "# Convert the elapsed time to hours, minutes, and seconds\n",
    "hours, remainder = divmod(execution_time, 3600)\n",
    "minutes, seconds = divmod(remainder, 60)"
   ]
  },
  {
   "cell_type": "markdown",
   "metadata": {},
   "source": [
    "Counting the repeated words"
   ]
  },
  {
   "cell_type": "code",
   "execution_count": 24,
   "metadata": {},
   "outputs": [],
   "source": [
    "log = {\n",
    "    'date and time': datetime.now().strftime('%Y-%m-%d'),\n",
    "    'program': 'MapReduce', \n",
    "    'Execution time (s)': f\"{round(execution_time, 3)}\", \n",
    "    'Qty of words': len(word_list), \n",
    "    'Qty of repeated words': len(repeated_words), \n",
    "    'Qty of non repeated words': len(non_repeated_words), \n",
    "    '1ª most repeated word': counted_words.most_common()[0][0], \n",
    "    '1ª most repeated word (Freq)': counted_words.most_common()[0][1],\n",
    "    '2ª most repeated word': counted_words.most_common()[1][0], \n",
    "    '2ª most repeated word (Freq)': counted_words.most_common()[1][1],\n",
    "    '3ª most repeated word': counted_words.most_common()[2][0],\n",
    "    '3ª most repeated word (Freq)': counted_words.most_common()[2][1],\n",
    "}"
   ]
  },
  {
   "cell_type": "code",
   "execution_count": 25,
   "metadata": {},
   "outputs": [],
   "source": [
    "log_df.loc[len(log_df)] = log"
   ]
  },
  {
   "cell_type": "code",
   "execution_count": 26,
   "metadata": {},
   "outputs": [
    {
     "data": {
      "text/html": [
       "<div>\n",
       "<style scoped>\n",
       "    .dataframe tbody tr th:only-of-type {\n",
       "        vertical-align: middle;\n",
       "    }\n",
       "\n",
       "    .dataframe tbody tr th {\n",
       "        vertical-align: top;\n",
       "    }\n",
       "\n",
       "    .dataframe thead th {\n",
       "        text-align: right;\n",
       "    }\n",
       "</style>\n",
       "<table border=\"1\" class=\"dataframe\">\n",
       "  <thead>\n",
       "    <tr style=\"text-align: right;\">\n",
       "      <th></th>\n",
       "      <th>date and time</th>\n",
       "      <th>program</th>\n",
       "      <th>Execution time (s)</th>\n",
       "      <th>Qty of words</th>\n",
       "      <th>Qty of repeated words</th>\n",
       "      <th>Qty of non repeated words</th>\n",
       "      <th>1ª most repeated word</th>\n",
       "      <th>1ª most repeated word (Freq)</th>\n",
       "      <th>2ª most repeated word</th>\n",
       "      <th>2ª most repeated word (Freq)</th>\n",
       "      <th>3ª most repeated word</th>\n",
       "      <th>3ª most repeated word (Freq)</th>\n",
       "    </tr>\n",
       "  </thead>\n",
       "  <tbody>\n",
       "    <tr>\n",
       "      <th>0</th>\n",
       "      <td>2023-11-07</td>\n",
       "      <td>MapReduce</td>\n",
       "      <td>98.581</td>\n",
       "      <td>300399</td>\n",
       "      <td>11646</td>\n",
       "      <td>12032</td>\n",
       "      <td>Excellent</td>\n",
       "      <td>6584</td>\n",
       "      <td>Persuasion</td>\n",
       "      <td>5740</td>\n",
       "      <td>Holes</td>\n",
       "      <td>4060</td>\n",
       "    </tr>\n",
       "  </tbody>\n",
       "</table>\n",
       "</div>"
      ],
      "text/plain": [
       "  date and time    program Execution time (s)  Qty of words   \n",
       "0    2023-11-07  MapReduce             98.581        300399  \\\n",
       "\n",
       "   Qty of repeated words  Qty of non repeated words 1ª most repeated word   \n",
       "0                  11646                      12032             Excellent  \\\n",
       "\n",
       "   1ª most repeated word (Freq) 2ª most repeated word   \n",
       "0                          6584            Persuasion  \\\n",
       "\n",
       "   2ª most repeated word (Freq) 3ª most repeated word   \n",
       "0                          5740                 Holes  \\\n",
       "\n",
       "   3ª most repeated word (Freq)  \n",
       "0                          4060  "
      ]
     },
     "execution_count": 26,
     "metadata": {},
     "output_type": "execute_result"
    }
   ],
   "source": [
    "log_df.head()"
   ]
  }
 ],
 "metadata": {
  "kernelspec": {
   "display_name": "Python 3",
   "language": "python",
   "name": "python3"
  },
  "language_info": {
   "codemirror_mode": {
    "name": "ipython",
    "version": 3
   },
   "file_extension": ".py",
   "mimetype": "text/x-python",
   "name": "python",
   "nbconvert_exporter": "python",
   "pygments_lexer": "ipython3",
   "version": "3.10.5"
  }
 },
 "nbformat": 4,
 "nbformat_minor": 2
}
